{
  "nbformat": 4,
  "nbformat_minor": 0,
  "metadata": {
    "colab": {
      "private_outputs": true,
      "provenance": []
    },
    "kernelspec": {
      "name": "python3",
      "display_name": "Python 3"
    },
    "language_info": {
      "name": "python"
    }
  },
  "cells": [
    {
      "cell_type": "code",
      "execution_count": null,
      "metadata": {
        "id": "pshcTTQOriEe"
      },
      "outputs": [],
      "source": [
        "!pip install spacy transformers nltk\n",
        "!python -m spacy download en_core_web_sm\n",
        "import nltk\n",
        "nltk.download('punkt')\n"
      ]
    },
    {
      "cell_type": "code",
      "source": [
        "import spacy\n",
        "from heapq import nlargest\n",
        "from transformers import pipeline\n",
        "import re\n",
        "from nltk.tokenize import sent_tokenize\n"
      ],
      "metadata": {
        "id": "Glnhxr8Cr6Uh"
      },
      "execution_count": null,
      "outputs": []
    },
    {
      "cell_type": "code",
      "source": [
        "def preprocess_text(text):\n",
        "    text = re.sub(r'<[^>]+>', '', text)\n",
        "    text = re.sub(r'\\s+', ' ', text).strip()\n",
        "    return text\n"
      ],
      "metadata": {
        "id": "7dvxNwFOsQ4P"
      },
      "execution_count": null,
      "outputs": []
    },
    {
      "cell_type": "code",
      "source": [
        "def extractive_summary(text, num_sentences=3):\n",
        "    nlp = spacy.load(\"en_core_web_sm\")\n",
        "    doc = nlp(text)\n",
        "    sentence_scores = {}\n",
        "\n",
        "    for sent in doc.sents:\n",
        "        for word in sent:\n",
        "            if word.is_stop == False and word.is_alpha:\n",
        "                sentence_scores[sent] = sentence_scores.get(sent, 0) + 1\n",
        "\n",
        "    summary_sentences = nlargest(num_sentences, sentence_scores, key=sentence_scores.get)\n",
        "    final_summary = ' '.join([str(sent) for sent in summary_sentences])\n",
        "    return final_summary\n"
      ],
      "metadata": {
        "id": "oN4dS_DwsWKw"
      },
      "execution_count": null,
      "outputs": []
    },
    {
      "cell_type": "code",
      "source": [
        "summarizer = pipeline(\"summarization\", model=\"facebook/bart-large-cnn\")\n",
        "\n",
        "def abstractive_summary(text):\n",
        "    summary = summarizer(text, max_length=130, min_length=30, do_sample=False)\n",
        "    return summary[0]['summary_text']\n"
      ],
      "metadata": {
        "id": "aUOeCkjssiG3"
      },
      "execution_count": null,
      "outputs": []
    },
    {
      "cell_type": "code",
      "source": [
        "article = \"\"\"\n",
        "The World Health Organization (WHO) declared a global health emergency following the outbreak of a novel respiratory virus that has rapidly spread across continents.\n",
        "The virus, first identified in a small city, has now been confirmed in over 40 countries, with thousands of reported infections and increasing fatalities.\n",
        "International travel restrictions have been implemented, and governments are urging citizens to take precautions such as wearing masks and avoiding large gatherings.\n",
        "Scientists are working around the clock to develop a vaccine, while healthcare systems are preparing for potential surges in patients.\n",
        "WHO officials emphasized the importance of global cooperation and transparent information sharing to combat the outbreak effectively.\n",
        "\"\"\"\n"
      ],
      "metadata": {
        "id": "ziRJkxoxswjN"
      },
      "execution_count": null,
      "outputs": []
    },
    {
      "cell_type": "code",
      "source": [
        "cleaned_text = preprocess_text(article)\n",
        "\n",
        "# Extractive\n",
        "print(\"🔹 Extractive Summary:\\n\")\n",
        "print(extractive_summary(cleaned_text))\n",
        "\n",
        "# Abstractive\n",
        "print(\"\\n🔹 Abstractive Summary:\\n\")\n",
        "print(abstractive_summary(cleaned_text))\n"
      ],
      "metadata": {
        "id": "mJr3baansyAL"
      },
      "execution_count": null,
      "outputs": []
    }
  ]
}